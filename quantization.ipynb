{
  "cells": [
    {
      "cell_type": "markdown",
      "source": [
        "Step 1: Import libraries"
      ],
      "metadata": {
        "id": "i-SJhGFFhscE"
      }
    },
    {
      "cell_type": "code",
      "source": [
        "import tensorflow as tf\n",
        "from google.colab import files"
      ],
      "metadata": {
        "id": "x0Hnx-jGjjzH"
      },
      "execution_count": null,
      "outputs": []
    },
    {
      "cell_type": "markdown",
      "source": [
        "Step 2: Load your Keras model"
      ],
      "metadata": {
        "id": "8SooYx5jAvIk"
      }
    },
    {
      "cell_type": "code",
      "source": [
        "your_model = tf.keras.models.load_model(\"model.keras\")"
      ],
      "metadata": {
        "colab": {
          "base_uri": "https://localhost:8080/"
        },
        "id": "GhAijH55CYR6",
        "outputId": "6a356eda-3feb-495c-b800-a6b77ee1b75e"
      },
      "execution_count": null,
      "outputs": [
        {
          "output_type": "stream",
          "name": "stderr",
          "text": [
            "/usr/local/lib/python3.11/dist-packages/keras/src/saving/saving_lib.py:757: UserWarning: Skipping variable loading for optimizer 'rmsprop', because it has 18 variables whereas the saved optimizer has 34 variables. \n",
            "  saveable.load_own_variables(weights_store.get(inner_path))\n"
          ]
        }
      ]
    },
    {
      "cell_type": "markdown",
      "source": [
        "Step 3: Convert to TFLite with optimization\n"
      ],
      "metadata": {
        "id": "ZsASygcLDnGL"
      }
    },
    {
      "cell_type": "code",
      "source": [
        "converter = tf.lite.TFLiteConverter.from_keras_model(your_model)\n",
        "converter.optimizations = [tf.lite.Optimize.DEFAULT]\n",
        "tflite_model = converter.convert()"
      ],
      "metadata": {
        "colab": {
          "base_uri": "https://localhost:8080/"
        },
        "id": "CiRFXg-lDkrr",
        "outputId": "0af552a8-6f72-45e3-bfd1-5404a3ca730e"
      },
      "execution_count": null,
      "outputs": [
        {
          "output_type": "stream",
          "name": "stdout",
          "text": [
            "Saved artifact at '/tmp/tmp8bkmh4m0'. The following endpoints are available:\n",
            "\n",
            "* Endpoint 'serve'\n",
            "  args_0 (POSITIONAL_ONLY): TensorSpec(shape=(None, 128, 157, 1), dtype=tf.float32, name='input_layer_4')\n",
            "Output Type:\n",
            "  TensorSpec(shape=(None, 1), dtype=tf.float32, name=None)\n",
            "Captures:\n",
            "  136896931054608: TensorSpec(shape=(), dtype=tf.resource, name=None)\n",
            "  136896931058832: TensorSpec(shape=(), dtype=tf.resource, name=None)\n",
            "  136896931059600: TensorSpec(shape=(), dtype=tf.resource, name=None)\n",
            "  136896931059984: TensorSpec(shape=(), dtype=tf.resource, name=None)\n",
            "  136896931059408: TensorSpec(shape=(), dtype=tf.resource, name=None)\n",
            "  136896931058256: TensorSpec(shape=(), dtype=tf.resource, name=None)\n",
            "  136896931060560: TensorSpec(shape=(), dtype=tf.resource, name=None)\n",
            "  136896931060368: TensorSpec(shape=(), dtype=tf.resource, name=None)\n",
            "  136896931062672: TensorSpec(shape=(), dtype=tf.resource, name=None)\n",
            "  136896931061712: TensorSpec(shape=(), dtype=tf.resource, name=None)\n",
            "  136896931062480: TensorSpec(shape=(), dtype=tf.resource, name=None)\n",
            "  136896931061520: TensorSpec(shape=(), dtype=tf.resource, name=None)\n",
            "  136896931061904: TensorSpec(shape=(), dtype=tf.resource, name=None)\n",
            "  136896931064976: TensorSpec(shape=(), dtype=tf.resource, name=None)\n",
            "  136896931065552: TensorSpec(shape=(), dtype=tf.resource, name=None)\n",
            "  136896931064208: TensorSpec(shape=(), dtype=tf.resource, name=None)\n",
            "  136896931065360: TensorSpec(shape=(), dtype=tf.resource, name=None)\n",
            "  136896931063056: TensorSpec(shape=(), dtype=tf.resource, name=None)\n",
            "  136896931063824: TensorSpec(shape=(), dtype=tf.resource, name=None)\n",
            "  136896931067856: TensorSpec(shape=(), dtype=tf.resource, name=None)\n",
            "  136896931067088: TensorSpec(shape=(), dtype=tf.resource, name=None)\n",
            "  136896931069008: TensorSpec(shape=(), dtype=tf.resource, name=None)\n"
          ]
        }
      ]
    },
    {
      "cell_type": "markdown",
      "source": [
        "Step 4: Save the compressed model"
      ],
      "metadata": {
        "id": "XwE_XBXyDsNc"
      }
    },
    {
      "cell_type": "code",
      "source": [
        "with open(\"compressed-model.tflite\", \"wb\") as f:\n",
        "    f.write(tflite_model)\n",
        "\n",
        "print(\"Model successfully compressed and saved as compressed-model.tflite\")"
      ],
      "metadata": {
        "colab": {
          "base_uri": "https://localhost:8080/"
        },
        "id": "nNZcXX0MDvFg",
        "outputId": "6867141d-47b5-4562-e4c2-6996311af452"
      },
      "execution_count": null,
      "outputs": [
        {
          "output_type": "stream",
          "name": "stdout",
          "text": [
            "Model successfully compressed and saved as compressed-model.tflite\n"
          ]
        }
      ]
    },
    {
      "cell_type": "markdown",
      "source": [
        "Step 5: Download the file to your local machine"
      ],
      "metadata": {
        "id": "XXaU1MkQEUxw"
      }
    },
    {
      "cell_type": "code",
      "source": [
        "files.download(\"compressed-model.tflite\")"
      ],
      "metadata": {
        "colab": {
          "base_uri": "https://localhost:8080/",
          "height": 17
        },
        "id": "u6BeUyHOEVy_",
        "outputId": "34385056-6cab-4bdd-9dea-8e2fb2009782"
      },
      "execution_count": null,
      "outputs": [
        {
          "output_type": "display_data",
          "data": {
            "text/plain": [
              "<IPython.core.display.Javascript object>"
            ],
            "application/javascript": [
              "\n",
              "    async function download(id, filename, size) {\n",
              "      if (!google.colab.kernel.accessAllowed) {\n",
              "        return;\n",
              "      }\n",
              "      const div = document.createElement('div');\n",
              "      const label = document.createElement('label');\n",
              "      label.textContent = `Downloading \"${filename}\": `;\n",
              "      div.appendChild(label);\n",
              "      const progress = document.createElement('progress');\n",
              "      progress.max = size;\n",
              "      div.appendChild(progress);\n",
              "      document.body.appendChild(div);\n",
              "\n",
              "      const buffers = [];\n",
              "      let downloaded = 0;\n",
              "\n",
              "      const channel = await google.colab.kernel.comms.open(id);\n",
              "      // Send a message to notify the kernel that we're ready.\n",
              "      channel.send({})\n",
              "\n",
              "      for await (const message of channel.messages) {\n",
              "        // Send a message to notify the kernel that we're ready.\n",
              "        channel.send({})\n",
              "        if (message.buffers) {\n",
              "          for (const buffer of message.buffers) {\n",
              "            buffers.push(buffer);\n",
              "            downloaded += buffer.byteLength;\n",
              "            progress.value = downloaded;\n",
              "          }\n",
              "        }\n",
              "      }\n",
              "      const blob = new Blob(buffers, {type: 'application/binary'});\n",
              "      const a = document.createElement('a');\n",
              "      a.href = window.URL.createObjectURL(blob);\n",
              "      a.download = filename;\n",
              "      div.appendChild(a);\n",
              "      a.click();\n",
              "      div.remove();\n",
              "    }\n",
              "  "
            ]
          },
          "metadata": {}
        },
        {
          "output_type": "display_data",
          "data": {
            "text/plain": [
              "<IPython.core.display.Javascript object>"
            ],
            "application/javascript": [
              "download(\"download_3844d078-f26c-47c0-b315-ffaca51a77e7\", \"compressed-model.tflite\", 8187960)"
            ]
          },
          "metadata": {}
        }
      ]
    }
  ],
  "metadata": {
    "colab": {
      "provenance": []
    },
    "kernelspec": {
      "display_name": "Python 3",
      "name": "python3"
    },
    "language_info": {
      "name": "python"
    }
  },
  "nbformat": 4,
  "nbformat_minor": 0
}